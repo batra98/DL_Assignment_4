{
  "nbformat": 4,
  "nbformat_minor": 0,
  "metadata": {
    "colab": {
      "name": "DL_Question_5.ipynb",
      "provenance": [],
      "collapsed_sections": []
    },
    "kernelspec": {
      "name": "python3",
      "display_name": "Python 3"
    }
  },
  "cells": [
    {
      "cell_type": "code",
      "metadata": {
        "id": "0oA1LHWgiyFS",
        "colab_type": "code",
        "colab": {
          "base_uri": "https://localhost:8080/",
          "height": 51
        },
        "outputId": "5df4d177-9d05-422f-8057-dc6168d1fb0f"
      },
      "source": [
        "%tensorflow_version 1.x\n",
        "import numpy as np\n",
        "import tensorflow as tf\n",
        "import keras\n",
        "import matplotlib.pyplot as plt"
      ],
      "execution_count": 2,
      "outputs": [
        {
          "output_type": "stream",
          "text": [
            "TensorFlow 1.x selected.\n"
          ],
          "name": "stdout"
        },
        {
          "output_type": "stream",
          "text": [
            "Using TensorFlow backend.\n"
          ],
          "name": "stderr"
        }
      ]
    },
    {
      "cell_type": "code",
      "metadata": {
        "id": "S2BxEtfLkceI",
        "colab_type": "code",
        "colab": {}
      },
      "source": [
        "def f(x):\n",
        "  return 1/(4*2*np.pi)*(np.exp(-((x)**2)/4)+np.exp(-((x-6)**2)/4)+np.exp(-((x+6)**2)/4))\n",
        "\n",
        "def generate_samples(size=10000):\n",
        "  data = []\n",
        "  x = 100*(np.random.random_sample((size,))-0.5)\n",
        "\n",
        "  for i in range(size):\n",
        "    y = f(x[i])\n",
        "    data.append([x[i],y])\n",
        "  \n",
        "\n",
        "\n",
        "  return np.array(data)\n",
        "\n",
        "\n",
        "def uniform_samples(size = [10000,2]):\n",
        "  s = np.random.uniform(-5,5,size = size)\n",
        "  return s"
      ],
      "execution_count": 0,
      "outputs": []
    },
    {
      "cell_type": "code",
      "metadata": {
        "id": "xGZHXoyEkcpF",
        "colab_type": "code",
        "colab": {}
      },
      "source": [
        "def generator(Y,hsize = [16, 16],reuse = False):\n",
        "  with tf.variable_scope(\"GAN/Generator\",reuse = reuse):\n",
        "    hidden1 = tf.layers.dense(Y,hsize[0],activation=tf.nn.leaky_relu)\n",
        "    hidden2 = tf.layers.dense(hidden1,hsize[1],activation=tf.nn.leaky_relu)\n",
        "    out = tf.layers.dense(hidden2,2)\n",
        "\n",
        "  return out"
      ],
      "execution_count": 0,
      "outputs": []
    },
    {
      "cell_type": "code",
      "metadata": {
        "id": "XV-Azij6mKuw",
        "colab_type": "code",
        "colab": {}
      },
      "source": [
        "def discriminator(X,hsize=[16,16],reuse = False):\n",
        "  with tf.variable_scope(\"GAN/Discriminator\",reuse = reuse):\n",
        "    hidden1 = tf.layers.dense(X,hsize[0],activation=tf.nn.leaky_relu)\n",
        "    hidden2 = tf.layers.dense(hidden1,hsize[1],activation=tf.nn.leaky_relu)\n",
        "    hidden3 = tf.layers.dense(hidden2,2)\n",
        "    out = tf.layers.dense(hidden3,1)\n",
        "\n",
        "  return out,hidden3\n"
      ],
      "execution_count": 0,
      "outputs": []
    },
    {
      "cell_type": "code",
      "metadata": {
        "id": "57VujBhDm2Tv",
        "colab_type": "code",
        "colab": {}
      },
      "source": [
        "tf.reset_default_graph()\n",
        "X = tf.placeholder(tf.float32,[None,2])\n",
        "Y = tf.placeholder(tf.float32,[None,2])\n",
        "\n",
        "G_sample = generator(Y)\n",
        "r_logits, r_rep = discriminator(X)\n",
        "f_logits, g_rep = discriminator(G_sample,reuse=True)\n",
        "\n",
        "disc_loss = tf.reduce_mean(tf.nn.sigmoid_cross_entropy_with_logits(logits=r_logits,labels=tf.ones_like(r_logits)) + tf.nn.sigmoid_cross_entropy_with_logits(logits=f_logits,labels=tf.zeros_like(f_logits)))\n",
        "gen_loss = tf.reduce_mean(tf.nn.sigmoid_cross_entropy_with_logits(logits=f_logits,labels=tf.ones_like(f_logits)))\n",
        "\n",
        "gen_vars = tf.get_collection(tf.GraphKeys.GLOBAL_VARIABLES,scope=\"GAN/Generator\")\n",
        "disc_vars = tf.get_collection(tf.GraphKeys.GLOBAL_VARIABLES,scope=\"GAN/Discriminator\")\n",
        "\n",
        "gen_step = tf.train.RMSPropOptimizer(learning_rate=0.001).minimize(gen_loss,var_list = gen_vars) # G Train step\n",
        "disc_step = tf.train.RMSPropOptimizer(learning_rate=0.001).minimize(disc_loss,var_list = disc_vars) # D Train step"
      ],
      "execution_count": 0,
      "outputs": []
    },
    {
      "cell_type": "code",
      "metadata": {
        "id": "Y0LfNj_ApwZf",
        "colab_type": "code",
        "outputId": "f8962322-6a6a-4db7-916b-db28924a62b4",
        "colab": {
          "base_uri": "https://localhost:8080/",
          "height": 265
        }
      },
      "source": [
        "sess = tf.Session()\n",
        "tf.global_variables_initializer().run(session=sess)\n",
        "\n",
        "batch_size = 256\n",
        "nd_steps = 10\n",
        "ng_steps = 10\n",
        "\n",
        "x = generate_samples(size = 10000)\n",
        "plt.scatter(x[:,0], x[:,1])\n",
        "plt.show()\n",
        "\n"
      ],
      "execution_count": 13,
      "outputs": [
        {
          "output_type": "display_data",
          "data": {
            "image/png": "[encoded data removed]",
            "text/plain": [
              "<Figure size 432x288 with 1 Axes>"
            ]
          },
          "metadata": {
            "tags": [],
            "needs_background": "light"
          }
        }
      ]
    },
    {
      "cell_type": "code",
      "metadata": {
        "id": "Xj40qIKus461",
        "colab_type": "code",
        "outputId": "fe7b3f64-c823-4b07-b5b4-79936ad34167",
        "colab": {
          "base_uri": "https://localhost:8080/",
          "height": 357
        }
      },
      "source": [
        "### training ####\n",
        "dis_error = []\n",
        "g_error = []\n",
        "\n",
        "for i in range(200000):\n",
        "  X_batch = generate_samples(size = batch_size)\n",
        "  Y_batch = uniform_samples(size = [batch_size,2])\n",
        "  _, dloss = sess.run([disc_step, disc_loss], feed_dict={X: X_batch, Y: Y_batch})\n",
        "  _, gloss = sess.run([gen_step, gen_loss], feed_dict={Y: Y_batch})\n",
        "  dis_error.append(dloss)\n",
        "  g_error.append(gloss)\n",
        "  if i%10000 == 0:\n",
        "    print(\"Iterations: %d\\t Discriminator loss: %.4f\\t Generator loss: %.4f\"%(i,dloss,gloss))\n",
        "\n",
        "  if i%10000 == 0:\n",
        "        plt.figure()\n",
        "        g_plot = sess.run(G_sample, feed_dict={Y: Y_batch})\n",
        "        xax = plt.scatter(x[:,0], x[:,1])\n",
        "        gax = plt.scatter(g_plot[:,0],g_plot[:,1])\n",
        "\n",
        "        plt.legend((xax,gax), (\"Real Data\",\"Generated Data\"))\n",
        "        plt.title('Samples at Iteration %d'%i)\n",
        "        plt.tight_layout()\n",
        "        plt.savefig('/content/plots/iteration_%d.png'%i)\n",
        "        plt.close()\n"
      ],
      "execution_count": 14,
      "outputs": [
        {
          "output_type": "stream",
          "text": [
            "Iterations: 0\t Discriminator loss: 5.6033\t Generator loss: 0.7267\n",
            "Iterations: 10000\t Discriminator loss: 1.0809\t Generator loss: 1.1282\n",
            "Iterations: 20000\t Discriminator loss: 0.9048\t Generator loss: 3.4588\n",
            "Iterations: 30000\t Discriminator loss: 0.9194\t Generator loss: 3.0360\n",
            "Iterations: 40000\t Discriminator loss: 0.4345\t Generator loss: 2.0613\n",
            "Iterations: 50000\t Discriminator loss: 0.3720\t Generator loss: 2.6592\n",
            "Iterations: 60000\t Discriminator loss: 0.3831\t Generator loss: 3.0252\n",
            "Iterations: 70000\t Discriminator loss: 0.4528\t Generator loss: 2.3776\n",
            "Iterations: 80000\t Discriminator loss: 0.4337\t Generator loss: 2.5358\n",
            "Iterations: 90000\t Discriminator loss: 0.4572\t Generator loss: 2.1442\n",
            "Iterations: 100000\t Discriminator loss: 0.4438\t Generator loss: 2.1211\n",
            "Iterations: 110000\t Discriminator loss: 0.6095\t Generator loss: 2.0802\n",
            "Iterations: 120000\t Discriminator loss: 0.5712\t Generator loss: 2.0952\n",
            "Iterations: 130000\t Discriminator loss: 0.5286\t Generator loss: 1.9920\n",
            "Iterations: 140000\t Discriminator loss: 0.6696\t Generator loss: 1.9328\n",
            "Iterations: 150000\t Discriminator loss: 0.5136\t Generator loss: 2.0537\n",
            "Iterations: 160000\t Discriminator loss: 0.7634\t Generator loss: 2.2552\n",
            "Iterations: 170000\t Discriminator loss: 0.5500\t Generator loss: 2.1847\n",
            "Iterations: 180000\t Discriminator loss: 0.6086\t Generator loss: 1.9905\n",
            "Iterations: 190000\t Discriminator loss: 0.5426\t Generator loss: 1.8056\n"
          ],
          "name": "stdout"
        }
      ]
    },
    {
      "cell_type": "code",
      "metadata": {
        "id": "-DqZdegXzKXg",
        "colab_type": "code",
        "outputId": "83296f7d-cc71-429d-e6ab-71bc6baeb5d5",
        "colab": {
          "base_uri": "https://localhost:8080/",
          "height": 284
        }
      },
      "source": [
        "plt.plot(dis_error)\n",
        "plt.plot(g_error)"
      ],
      "execution_count": 21,
      "outputs": [
        {
          "output_type": "execute_result",
          "data": {
            "text/plain": [
              "[<matplotlib.lines.Line2D at 0x7f41dde521d0>]"
            ]
          },
          "metadata": {
            "tags": []
          },
          "execution_count": 21
        },
        {
          "output_type": "display_data",
          "data": {
            "image/png": "[encoded data removed]",
            "text/plain": [
              "<Figure size 432x288 with 1 Axes>"
            ]
          },
          "metadata": {
            "tags": [],
            "needs_background": "light"
          }
        }
      ]
    },
    {
      "cell_type": "code",
      "metadata": {
        "id": "VRzHWRD5KVP0",
        "colab_type": "code",
        "outputId": "082a93dd-2797-4747-d803-9a34ee632748",
        "colab": {
          "base_uri": "https://localhost:8080/",
          "height": 265
        }
      },
      "source": [
        "import scipy.stats as st\n",
        "Y_batch = uniform_samples(size = [3000,2])\n",
        "points = sess.run(G_sample, feed_dict={Y: Y_batch})\n",
        "\n",
        "\n",
        "plt.hist(points[:,0], bins=30, density = True)\n",
        "plt.show()"
      ],
      "execution_count": 26,
      "outputs": [
        {
          "output_type": "display_data",
          "data": {
            "image/png": "[encoded data removed]",
            "text/plain": [
              "<Figure size 432x288 with 1 Axes>"
            ]
          },
          "metadata": {
            "tags": [],
            "needs_background": "light"
          }
        }
      ]
    },
    {
      "cell_type": "code",
      "metadata": {
        "id": "KGcIceem5pvH",
        "colab_type": "code",
        "colab": {}
      },
      "source": [
        "from sklearn.mixture import GaussianMixture"
      ],
      "execution_count": 0,
      "outputs": []
    },
    {
      "cell_type": "code",
      "metadata": {
        "id": "hfysBqUJ63Mq",
        "colab_type": "code",
        "colab": {}
      },
      "source": [
        "GMM = GaussianMixture(n_components=3).fit(points[:,0].reshape(-1,1))"
      ],
      "execution_count": 0,
      "outputs": []
    },
    {
      "cell_type": "code",
      "metadata": {
        "id": "IyqtVh847CIL",
        "colab_type": "code",
        "colab": {
          "base_uri": "https://localhost:8080/",
          "height": 187
        },
        "outputId": "979fd037-61a3-4902-ac61-57dc6202576f"
      },
      "source": [
        "print('Converged:',GMM.converged_) # Check if the model has converged\n",
        "means = GMM.means_ \n",
        "covariances = GMM.covariances_\n",
        "weights = GMM.weights_\n",
        "print(means)\n",
        "print(covariances)\n",
        "print(weights)"
      ],
      "execution_count": 41,
      "outputs": [
        {
          "output_type": "stream",
          "text": [
            "Converged: True\n",
            "[[-0.27827441]\n",
            " [-6.34254586]\n",
            " [ 6.12314662]]\n",
            "[[[4.16122171]]\n",
            "\n",
            " [[4.36001298]]\n",
            "\n",
            " [[4.39271145]]]\n",
            "[0.36596518 0.29979811 0.3342367 ]\n"
          ],
          "name": "stdout"
        }
      ]
    },
    {
      "cell_type": "code",
      "metadata": {
        "id": "3fakTho17n6N",
        "colab_type": "code",
        "colab": {
          "base_uri": "https://localhost:8080/",
          "height": 34
        },
        "outputId": "d57d0914-358e-4764-bc77-d7424546a8d3"
      },
      "source": [
        "x = GMM.sample(3000)\n",
        "\n",
        "log_gan = GMM.score_samples(points[:,0].reshape(-1,1))\n",
        "log_x = GMM.score_samples(x[0])\n",
        "\n",
        "print(log_gan.mean() - log_x.mean())"
      ],
      "execution_count": 59,
      "outputs": [
        {
          "output_type": "stream",
          "text": [
            "0.004093699436420906\n"
          ],
          "name": "stdout"
        }
      ]
    }
  ]
}